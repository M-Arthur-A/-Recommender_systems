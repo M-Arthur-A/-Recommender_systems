{
 "cells": [
  {
   "cell_type": "code",
   "execution_count": 1,
   "id": "fa0ad6d8-65e0-4bb1-9e7a-245bbefe9790",
   "metadata": {},
   "outputs": [
    {
     "name": "stdout",
     "output_type": "stream",
     "text": [
      "Loaded following classes:\n",
      "['Dataset', 'MainRecommender']\n",
      "\n",
      "Loaded following functions:\n",
      "['load_settings', 'pprint', 'precision_at_k']\n",
      "\n",
      "Loaded following constants:\n",
      "ITEM_COL          = item_id    | <class 'str'>\n",
      "USER_COL          = user_id    | <class 'str'>\n",
      "ACTUAL_COL        = actual     | <class 'str'>\n",
      "TAKE_N_POPULAR    =          5 | <class 'int'>\n",
      "N_PREDICT         =         50 | <class 'int'>\n",
      "TOPK_PRECISION    =          5 | <class 'int'>\n",
      "VAL_MATCHER_WEEKS =          6 | <class 'int'>\n",
      "VAL_RANKER_WEEKS  =          3 | <class 'int'>\n"
     ]
    }
   ],
   "source": [
    "from src.utils import *\n",
    "globals().update(load_settings(True))"
   ]
  },
  {
   "cell_type": "code",
   "execution_count": 2,
   "id": "03124ec0-21aa-4e85-b566-bcc32f9a4ebe",
   "metadata": {
    "tags": []
   },
   "outputs": [],
   "source": [
    "data = Dataset()\n",
    "data.data_prefilter()\n",
    "data.data_split()"
   ]
  },
  {
   "cell_type": "code",
   "execution_count": null,
   "id": "dfcb36c8-c7d6-477b-bf18-7b547c9a0500",
   "metadata": {},
   "outputs": [],
   "source": []
  }
 ],
 "metadata": {
  "kernelspec": {
   "display_name": "implicit_39",
   "language": "python",
   "name": "implicit_39"
  },
  "language_info": {
   "codemirror_mode": {
    "name": "ipython",
    "version": 3
   },
   "file_extension": ".py",
   "mimetype": "text/x-python",
   "name": "python",
   "nbconvert_exporter": "python",
   "pygments_lexer": "ipython3",
   "version": "3.9.5"
  }
 },
 "nbformat": 4,
 "nbformat_minor": 5
}
